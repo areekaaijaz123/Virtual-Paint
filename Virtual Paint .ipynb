{
 "cells": [
  {
   "cell_type": "code",
   "execution_count": 1,
   "metadata": {},
   "outputs": [],
   "source": [
    "import cv2\n",
    "import numpy as np"
   ]
  },
  {
   "cell_type": "code",
   "execution_count": 2,
   "metadata": {},
   "outputs": [],
   "source": [
    "\"\"\"\"colors: [h_min, s_min, v_min, h_max, s_max, v_max] \n",
    "orange, pink, light blue\"\"\"\n",
    "\n",
    "colors = [[5,107,0,19,255,255], [133,56,0,159,156,255], [57,76,0,100,255,255]]\n",
    "\n",
    "colorVal = [[51,153,255], [255,0,255], [255,0,0]]\n",
    "\n",
    "myPts = []  #x,y,colorid"
   ]
  },
  {
   "cell_type": "code",
   "execution_count": 3,
   "metadata": {},
   "outputs": [],
   "source": [
    "def find_color(img, colors, colorVal):\n",
    "    \n",
    "    hsvImg = cv2.cvtColor(img, cv2.COLOR_BGR2HSV)\n",
    "    count = 0\n",
    "    pts = []\n",
    "    \n",
    "    for color in colors:\n",
    "        lower = np.array(color[0:3])\n",
    "        upper = np.array(color[3:6])\n",
    "        mask = cv2.inRange(hsvImg, lower, upper)\n",
    "        x, y = get_contour(mask)\n",
    "        cv2.circle(res_frame, (x,y), 10, colorVal[count], cv2.FILLED)\n",
    "        \n",
    "        if x != 0  and y !=0 :\n",
    "            pts.append([x,y,count])\n",
    "            \n",
    "        count +=1 \n",
    "        #cv2.imshow(str(color[0]),mask)\n",
    "        \n",
    "    return pts"
   ]
  },
  {
   "cell_type": "code",
   "execution_count": 4,
   "metadata": {},
   "outputs": [],
   "source": [
    "def get_contour(img):\n",
    "    contours, hierarchy = cv2.findContours(img, cv2.RETR_EXTERNAL, cv2.CHAIN_APPROX_NONE)\n",
    "    \n",
    "    x, y, wid, hig = 0,0,0,0\n",
    "    \n",
    "    for cnt in contours:\n",
    "        area = cv2.contourArea(cnt)\n",
    "\n",
    "        #Setting up a threshold so that only shapes will get contoured only. Avoiding noise\n",
    "        if area>500:            \n",
    "            #cv2.drawContours(res_frame, cnt, -1, (255,0,0), 2)\n",
    "            peri = cv2.arcLength(cnt, True)\n",
    "            approx = cv2.approxPolyDP(cnt, 0.02*peri, True)\n",
    "            x, y, wid, hig = cv2.boundingRect(approx)\n",
    "            cv2.rectangle(res_frame, (x,y), (x+wid, y+hig), (0,0,0), 2)\n",
    "    \n",
    "    return (x+wid//2, y)\n",
    "    "
   ]
  },
  {
   "cell_type": "code",
   "execution_count": 5,
   "metadata": {},
   "outputs": [],
   "source": [
    "def draw_canvas(pts, colorVal):\n",
    "    for pt in pts:\n",
    "        cv2.circle(res_frame, (pt[0],pt[1]), 10, colorVal[pt[2]], cv2.FILLED)"
   ]
  },
  {
   "cell_type": "code",
   "execution_count": 6,
   "metadata": {},
   "outputs": [],
   "source": [
    "frameWid = 340\n",
    "frameHig = 340\n",
    "\n",
    "cap = cv2.VideoCapture(0)\n",
    "cap.set(3, frameWid)\n",
    "cap.set(4, frameHig)\n",
    "cap.set(10,150)\n",
    "\n",
    "while(True):\n",
    "    ret, frame = cap.read()\n",
    "    res_frame = frame.copy()\n",
    "    pts = find_color(frame, colors, colorVal)\n",
    "    \n",
    "    if len(pts)!=0:\n",
    "        for pt in pts:\n",
    "            myPts.append(pt)\n",
    "            \n",
    "    if len(myPts)!=0:\n",
    "        draw_canvas(myPts, colorVal)\n",
    "    \n",
    "    cv2.imshow('Image',frame)\n",
    "    cv2.imshow('Result',res_frame)\n",
    "    \n",
    "    if cv2.waitKey(1) == ord('q'):\n",
    "        break\n",
    "        \n",
    "cap.release()\n",
    "cv2.destroyAllWindows()"
   ]
  },
  {
   "cell_type": "code",
   "execution_count": 7,
   "metadata": {},
   "outputs": [],
   "source": [
    "#To detect color values\n",
    "\n",
    "def nothing(X):\n",
    "    pass\n",
    "\n",
    "cv2.namedWindow('Trackbars')\n",
    "cv2.resizeWindow('Trackbars',640,240)\n",
    "cv2.createTrackbar('Hue Min', 'Trackbars', 0, 179, nothing)\n",
    "cv2.createTrackbar('Hue Max', 'Trackbars', 179, 179, nothing)\n",
    "cv2.createTrackbar('Sat Min', 'Trackbars', 0, 255, nothing)\n",
    "cv2.createTrackbar('Sat Max', 'Trackbars', 255, 255, nothing)\n",
    "cv2.createTrackbar('Val Min', 'Trackbars', 0, 179, nothing)\n",
    "cv2.createTrackbar('Val Max', 'Trackbars', 255, 255, nothing)\n",
    "\n",
    "frameWid = 440\n",
    "frameHig = 380\n",
    "\n",
    "cap = cv2.VideoCapture(0)\n",
    "cap.set(3, frameWid)\n",
    "cap.set(4, frameHig)\n",
    "cap.set(10,150)\n",
    "\n",
    "while (True) :\n",
    "    ret, img = cap.read()\n",
    "    #img = cv2.imread('Images/colors.png')\n",
    "    hsvImg = cv2.cvtColor(img, cv2.COLOR_BGR2HSV)\n",
    "\n",
    "    if cv2.waitKey(1) == ord('q'):\n",
    "        break\n",
    "    \n",
    "    h_min = cv2.getTrackbarPos('Hue Min', 'Trackbars')\n",
    "    h_max = cv2.getTrackbarPos('Hue Max', 'Trackbars')\n",
    " \n",
    "    s_min = cv2.getTrackbarPos('Sat Min', 'Trackbars')\n",
    "    s_max = cv2.getTrackbarPos('Sat Max', 'Trackbars')\n",
    "\n",
    "    v_min = cv2.getTrackbarPos('Val Min', 'Trackbars')\n",
    "    v_max = cv2.getTrackbarPos('Val Max', 'Trackbars')\n",
    "    \n",
    "    print(h_min, s_min, v_min, h_max, s_max, v_max)\n",
    "    \n",
    "    lower = np.array([h_min, s_min, v_min])\n",
    "    upper = np.array([h_max, s_max, v_max])\n",
    "    mask = cv2.inRange(hsvImg, lower, upper)\n",
    "    \n",
    "    #result = cv2.bitwise_and(img, img, mask=mask)\n",
    "    \n",
    "    cv2.imshow('Image',img)\n",
    "    #cv2.imshow('HSV',hsvImg)\n",
    "    cv2.imshow('Mask',mask)\n",
    "    #cv2.imshow('Final Image',result)\n",
    "    \n",
    "cv2.destroyAllWindows()"
   ]
  },
  {
   "cell_type": "code",
   "execution_count": 8,
   "metadata": {},
   "outputs": [],
   "source": [
    "#color: h_min, s_min, v_min, h_max, s_max, v_max\n",
    "#red : 153 0 4 179 255 255\n",
    "#light purple : 0 0 0 179 158 255\n",
    "#purple : 114 0 0 137 255 255\n",
    "#dark purple : 141 0 0 158 255 255\n",
    "#light blue : 74 0 0 103 255 255\n",
    "#blue : 98 0 179 114 255 247\n",
    "#dark blue : 106 0 0 125 255 255\n",
    "#orange : 4 0 0 15 255 255\n",
    "#light green : 58 0 0 67 255 255\n",
    "#yellow : 30 0 0 57 255 255"
   ]
  },
  {
   "cell_type": "code",
   "execution_count": null,
   "metadata": {},
   "outputs": [],
   "source": []
  }
 ],
 "metadata": {
  "kernelspec": {
   "display_name": "Python 3",
   "language": "python",
   "name": "python3"
  },
  "language_info": {
   "codemirror_mode": {
    "name": "ipython",
    "version": 3
   },
   "file_extension": ".py",
   "mimetype": "text/x-python",
   "name": "python",
   "nbconvert_exporter": "python",
   "pygments_lexer": "ipython3",
   "version": "3.7.3"
  }
 },
 "nbformat": 4,
 "nbformat_minor": 2
}
